{
 "cells": [
  {
   "cell_type": "code",
   "execution_count": 13,
   "metadata": {},
   "outputs": [
    {
     "name": "stdout",
     "output_type": "stream",
     "text": [
      "Requirement already satisfied: langchain-upstage in /Users/ihaeni/.pyenv/versions/3.10.11/envs/rag-llm-application/lib/python3.10/site-packages (0.6.0)\n",
      "Requirement already satisfied: python-dotenv in /Users/ihaeni/.pyenv/versions/3.10.11/envs/rag-llm-application/lib/python3.10/site-packages (1.1.0)\n",
      "Requirement already satisfied: requests<3.0.0,>=2.31.0 in /Users/ihaeni/.pyenv/versions/3.10.11/envs/rag-llm-application/lib/python3.10/site-packages (from langchain-upstage) (2.32.3)\n",
      "Requirement already satisfied: pypdf<5.0.0,>=4.2.0 in /Users/ihaeni/.pyenv/versions/3.10.11/envs/rag-llm-application/lib/python3.10/site-packages (from langchain-upstage) (4.3.1)\n",
      "Requirement already satisfied: tokenizers<0.20.0,>=0.19.1 in /Users/ihaeni/.pyenv/versions/3.10.11/envs/rag-llm-application/lib/python3.10/site-packages (from langchain-upstage) (0.19.1)\n",
      "Requirement already satisfied: langchain-core<0.4.0,>=0.3.29 in /Users/ihaeni/.pyenv/versions/3.10.11/envs/rag-llm-application/lib/python3.10/site-packages (from langchain-upstage) (0.3.58)\n",
      "Requirement already satisfied: langchain-openai<0.4,>=0.3 in /Users/ihaeni/.pyenv/versions/3.10.11/envs/rag-llm-application/lib/python3.10/site-packages (from langchain-upstage) (0.3.16)\n",
      "Requirement already satisfied: packaging<25,>=23.2 in /Users/ihaeni/.pyenv/versions/3.10.11/envs/rag-llm-application/lib/python3.10/site-packages (from langchain-core<0.4.0,>=0.3.29->langchain-upstage) (24.2)\n",
      "Requirement already satisfied: tenacity!=8.4.0,<10.0.0,>=8.1.0 in /Users/ihaeni/.pyenv/versions/3.10.11/envs/rag-llm-application/lib/python3.10/site-packages (from langchain-core<0.4.0,>=0.3.29->langchain-upstage) (9.1.2)\n",
      "Requirement already satisfied: PyYAML>=5.3 in /Users/ihaeni/.pyenv/versions/3.10.11/envs/rag-llm-application/lib/python3.10/site-packages (from langchain-core<0.4.0,>=0.3.29->langchain-upstage) (6.0.2)\n",
      "Requirement already satisfied: typing-extensions>=4.7 in /Users/ihaeni/.pyenv/versions/3.10.11/envs/rag-llm-application/lib/python3.10/site-packages (from langchain-core<0.4.0,>=0.3.29->langchain-upstage) (4.13.2)\n",
      "Requirement already satisfied: langsmith<0.4,>=0.1.125 in /Users/ihaeni/.pyenv/versions/3.10.11/envs/rag-llm-application/lib/python3.10/site-packages (from langchain-core<0.4.0,>=0.3.29->langchain-upstage) (0.3.42)\n",
      "Requirement already satisfied: pydantic<3.0.0,>=2.5.2 in /Users/ihaeni/.pyenv/versions/3.10.11/envs/rag-llm-application/lib/python3.10/site-packages (from langchain-core<0.4.0,>=0.3.29->langchain-upstage) (2.11.4)\n",
      "Requirement already satisfied: jsonpatch<2.0,>=1.33 in /Users/ihaeni/.pyenv/versions/3.10.11/envs/rag-llm-application/lib/python3.10/site-packages (from langchain-core<0.4.0,>=0.3.29->langchain-upstage) (1.33)\n",
      "Requirement already satisfied: tiktoken<1,>=0.7 in /Users/ihaeni/.pyenv/versions/3.10.11/envs/rag-llm-application/lib/python3.10/site-packages (from langchain-openai<0.4,>=0.3->langchain-upstage) (0.9.0)\n",
      "Requirement already satisfied: openai<2.0.0,>=1.68.2 in /Users/ihaeni/.pyenv/versions/3.10.11/envs/rag-llm-application/lib/python3.10/site-packages (from langchain-openai<0.4,>=0.3->langchain-upstage) (1.77.0)\n",
      "Requirement already satisfied: idna<4,>=2.5 in /Users/ihaeni/.pyenv/versions/3.10.11/envs/rag-llm-application/lib/python3.10/site-packages (from requests<3.0.0,>=2.31.0->langchain-upstage) (3.10)\n",
      "Requirement already satisfied: certifi>=2017.4.17 in /Users/ihaeni/.pyenv/versions/3.10.11/envs/rag-llm-application/lib/python3.10/site-packages (from requests<3.0.0,>=2.31.0->langchain-upstage) (2025.4.26)\n",
      "Requirement already satisfied: urllib3<3,>=1.21.1 in /Users/ihaeni/.pyenv/versions/3.10.11/envs/rag-llm-application/lib/python3.10/site-packages (from requests<3.0.0,>=2.31.0->langchain-upstage) (2.4.0)\n",
      "Requirement already satisfied: charset-normalizer<4,>=2 in /Users/ihaeni/.pyenv/versions/3.10.11/envs/rag-llm-application/lib/python3.10/site-packages (from requests<3.0.0,>=2.31.0->langchain-upstage) (3.4.2)\n",
      "Requirement already satisfied: huggingface-hub<1.0,>=0.16.4 in /Users/ihaeni/.pyenv/versions/3.10.11/envs/rag-llm-application/lib/python3.10/site-packages (from tokenizers<0.20.0,>=0.19.1->langchain-upstage) (0.30.2)\n",
      "Requirement already satisfied: tqdm>=4.42.1 in /Users/ihaeni/.pyenv/versions/3.10.11/envs/rag-llm-application/lib/python3.10/site-packages (from huggingface-hub<1.0,>=0.16.4->tokenizers<0.20.0,>=0.19.1->langchain-upstage) (4.67.1)\n",
      "Requirement already satisfied: fsspec>=2023.5.0 in /Users/ihaeni/.pyenv/versions/3.10.11/envs/rag-llm-application/lib/python3.10/site-packages (from huggingface-hub<1.0,>=0.16.4->tokenizers<0.20.0,>=0.19.1->langchain-upstage) (2025.3.2)\n",
      "Requirement already satisfied: filelock in /Users/ihaeni/.pyenv/versions/3.10.11/envs/rag-llm-application/lib/python3.10/site-packages (from huggingface-hub<1.0,>=0.16.4->tokenizers<0.20.0,>=0.19.1->langchain-upstage) (3.18.0)\n",
      "Requirement already satisfied: jsonpointer>=1.9 in /Users/ihaeni/.pyenv/versions/3.10.11/envs/rag-llm-application/lib/python3.10/site-packages (from jsonpatch<2.0,>=1.33->langchain-core<0.4.0,>=0.3.29->langchain-upstage) (3.0.0)\n",
      "Requirement already satisfied: httpx<1,>=0.23.0 in /Users/ihaeni/.pyenv/versions/3.10.11/envs/rag-llm-application/lib/python3.10/site-packages (from langsmith<0.4,>=0.1.125->langchain-core<0.4.0,>=0.3.29->langchain-upstage) (0.28.1)\n",
      "Requirement already satisfied: orjson<4.0.0,>=3.9.14 in /Users/ihaeni/.pyenv/versions/3.10.11/envs/rag-llm-application/lib/python3.10/site-packages (from langsmith<0.4,>=0.1.125->langchain-core<0.4.0,>=0.3.29->langchain-upstage) (3.10.18)\n",
      "Requirement already satisfied: zstandard<0.24.0,>=0.23.0 in /Users/ihaeni/.pyenv/versions/3.10.11/envs/rag-llm-application/lib/python3.10/site-packages (from langsmith<0.4,>=0.1.125->langchain-core<0.4.0,>=0.3.29->langchain-upstage) (0.23.0)\n",
      "Requirement already satisfied: requests-toolbelt<2.0.0,>=1.0.0 in /Users/ihaeni/.pyenv/versions/3.10.11/envs/rag-llm-application/lib/python3.10/site-packages (from langsmith<0.4,>=0.1.125->langchain-core<0.4.0,>=0.3.29->langchain-upstage) (1.0.0)\n",
      "Requirement already satisfied: distro<2,>=1.7.0 in /Users/ihaeni/.pyenv/versions/3.10.11/envs/rag-llm-application/lib/python3.10/site-packages (from openai<2.0.0,>=1.68.2->langchain-openai<0.4,>=0.3->langchain-upstage) (1.9.0)\n",
      "Requirement already satisfied: anyio<5,>=3.5.0 in /Users/ihaeni/.pyenv/versions/3.10.11/envs/rag-llm-application/lib/python3.10/site-packages (from openai<2.0.0,>=1.68.2->langchain-openai<0.4,>=0.3->langchain-upstage) (4.9.0)\n",
      "Requirement already satisfied: jiter<1,>=0.4.0 in /Users/ihaeni/.pyenv/versions/3.10.11/envs/rag-llm-application/lib/python3.10/site-packages (from openai<2.0.0,>=1.68.2->langchain-openai<0.4,>=0.3->langchain-upstage) (0.9.0)\n",
      "Requirement already satisfied: sniffio in /Users/ihaeni/.pyenv/versions/3.10.11/envs/rag-llm-application/lib/python3.10/site-packages (from openai<2.0.0,>=1.68.2->langchain-openai<0.4,>=0.3->langchain-upstage) (1.3.1)\n",
      "Requirement already satisfied: annotated-types>=0.6.0 in /Users/ihaeni/.pyenv/versions/3.10.11/envs/rag-llm-application/lib/python3.10/site-packages (from pydantic<3.0.0,>=2.5.2->langchain-core<0.4.0,>=0.3.29->langchain-upstage) (0.7.0)\n",
      "Requirement already satisfied: pydantic-core==2.33.2 in /Users/ihaeni/.pyenv/versions/3.10.11/envs/rag-llm-application/lib/python3.10/site-packages (from pydantic<3.0.0,>=2.5.2->langchain-core<0.4.0,>=0.3.29->langchain-upstage) (2.33.2)\n",
      "Requirement already satisfied: typing-inspection>=0.4.0 in /Users/ihaeni/.pyenv/versions/3.10.11/envs/rag-llm-application/lib/python3.10/site-packages (from pydantic<3.0.0,>=2.5.2->langchain-core<0.4.0,>=0.3.29->langchain-upstage) (0.4.0)\n",
      "Requirement already satisfied: regex>=2022.1.18 in /Users/ihaeni/.pyenv/versions/3.10.11/envs/rag-llm-application/lib/python3.10/site-packages (from tiktoken<1,>=0.7->langchain-openai<0.4,>=0.3->langchain-upstage) (2024.11.6)\n",
      "Requirement already satisfied: exceptiongroup>=1.0.2 in /Users/ihaeni/.pyenv/versions/3.10.11/envs/rag-llm-application/lib/python3.10/site-packages (from anyio<5,>=3.5.0->openai<2.0.0,>=1.68.2->langchain-openai<0.4,>=0.3->langchain-upstage) (1.2.2)\n",
      "Requirement already satisfied: httpcore==1.* in /Users/ihaeni/.pyenv/versions/3.10.11/envs/rag-llm-application/lib/python3.10/site-packages (from httpx<1,>=0.23.0->langsmith<0.4,>=0.1.125->langchain-core<0.4.0,>=0.3.29->langchain-upstage) (1.0.9)\n",
      "Requirement already satisfied: h11>=0.16 in /Users/ihaeni/.pyenv/versions/3.10.11/envs/rag-llm-application/lib/python3.10/site-packages (from httpcore==1.*->httpx<1,>=0.23.0->langsmith<0.4,>=0.1.125->langchain-core<0.4.0,>=0.3.29->langchain-upstage) (0.16.0)\n",
      "\n",
      "\u001b[1m[\u001b[0m\u001b[34;49mnotice\u001b[0m\u001b[1;39;49m]\u001b[0m\u001b[39;49m A new release of pip is available: \u001b[0m\u001b[31;49m23.0.1\u001b[0m\u001b[39;49m -> \u001b[0m\u001b[32;49m25.1.1\u001b[0m\n",
      "\u001b[1m[\u001b[0m\u001b[34;49mnotice\u001b[0m\u001b[1;39;49m]\u001b[0m\u001b[39;49m To update, run: \u001b[0m\u001b[32;49mpip install --upgrade pip\u001b[0m\n",
      "Note: you may need to restart the kernel to use updated packages.\n"
     ]
    }
   ],
   "source": [
    "%pip install langchain-upstage python-dotenv"
   ]
  },
  {
   "cell_type": "code",
   "execution_count": 14,
   "metadata": {},
   "outputs": [
    {
     "data": {
      "text/plain": [
       "True"
      ]
     },
     "execution_count": 14,
     "metadata": {},
     "output_type": "execute_result"
    }
   ],
   "source": [
    "from dotenv import load_dotenv\n",
    "\n",
    "load_dotenv()"
   ]
  },
  {
   "cell_type": "code",
   "execution_count": 15,
   "metadata": {},
   "outputs": [],
   "source": [
    "from langchain_upstage import ChatUpstage\n",
    "\n",
    "llm = ChatUpstage()"
   ]
  },
  {
   "cell_type": "code",
   "execution_count": 16,
   "metadata": {},
   "outputs": [],
   "source": [
    "ai_message = llm.invoke(\"인프런에 어떤 강의가 있나요?\")"
   ]
  },
  {
   "cell_type": "code",
   "execution_count": 17,
   "metadata": {},
   "outputs": [
    {
     "data": {
      "text/plain": [
       "'인프런에는 다양한 주제의 강의들이 있습니다. 주요 카테고리는 다음과 같습니다:\\n\\n1. **프로그래밍**: 웹 개발, 모바일 개발, 데이터 분석, 인공지능, 머신러닝, 클라우드 컴퓨팅 등 다양한 프로그래밍 관련 강의가 있습니다.\\n\\n2. **디자인**: UI/UX 디자인, 그래픽 디자인, 웹 디자인, 브랜딩 등 디자인 관련 강의가 있습니다.\\n\\n3. **비즈니스**: 마케팅, 경영, 회계, 인사, 창업 등 비즈니스 관련 강의가 있습니다.\\n\\n4. **인문학**: 심리학, 철학, 역사, 문화 등 인문학 관련 강의가 있습니다.\\n\\n5. **생활**: 요리, 건강, 여행, 취미 등 생활 관련 강의가 있습니다.\\n\\n6. **기타**: 영어, 외국어, 수학, 과학 등 다양한 주제의 강의가 있습니다.\\n\\n각 카테고리 내에서도 다양한 수준의 강의가 제공되어, 초보자부터 전문가까지 다양한 학습자가 이용할 수 있습니다.'"
      ]
     },
     "execution_count": 17,
     "metadata": {},
     "output_type": "execute_result"
    }
   ],
   "source": [
    "ai_message.content"
   ]
  }
 ],
 "metadata": {
  "kernelspec": {
   "display_name": "rag-llm-application",
   "language": "python",
   "name": "python3"
  },
  "language_info": {
   "codemirror_mode": {
    "name": "ipython",
    "version": 3
   },
   "file_extension": ".py",
   "mimetype": "text/x-python",
   "name": "python",
   "nbconvert_exporter": "python",
   "pygments_lexer": "ipython3",
   "version": "3.10.11"
  }
 },
 "nbformat": 4,
 "nbformat_minor": 2
}
